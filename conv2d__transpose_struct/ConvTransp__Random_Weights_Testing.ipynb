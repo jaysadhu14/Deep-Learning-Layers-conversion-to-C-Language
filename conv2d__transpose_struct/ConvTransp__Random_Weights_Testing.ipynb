{
  "cells": [
    {
      "cell_type": "code",
      "execution_count": null,
      "metadata": {
        "colab": {
          "base_uri": "https://localhost:8080/"
        },
        "id": "cXQI5yaJXG-o",
        "outputId": "0c1325ea-7194-40d8-84d9-2b18499ada52"
      },
      "outputs": [
        {
          "output_type": "stream",
          "name": "stdout",
          "text": [
            "tf.Tensor(\n",
            "[[[[-0.7974513 ]\n",
            "   [-0.32529014]]\n",
            "\n",
            "  [[ 1.6374652 ]\n",
            "   [ 0.5086184 ]]]], shape=(1, 2, 2, 1), dtype=float32)\n",
            "Kernel:\n",
            "<tf.Variable 'kernel:0' shape=(2, 2, 1, 1) dtype=float32, numpy=\n",
            "array([[[[ 0.10195458]],\n",
            "\n",
            "        [[-0.24636489]]],\n",
            "\n",
            "\n",
            "       [[[-0.65866494]],\n",
            "\n",
            "        [[ 0.74693865]]]], dtype=float32)>\n",
            "Input shape: (1, 2, 2, 1)\n",
            "Kernel size: (2, 2, 1, 1)\n",
            "Output shape: (1, 3, 3, 1)\n",
            "tf.Tensor(\n",
            "[[[[-0.08130381]\n",
            "   [ 0.16329917]\n",
            "   [ 0.08014007]]\n",
            "\n",
            "  [[ 0.6922003 ]\n",
            "   [-0.732948  ]\n",
            "   [-0.3682775 ]]\n",
            "\n",
            "  [[-1.0785409 ]\n",
            "   [ 0.888077  ]\n",
            "   [ 0.37990674]]]], shape=(1, 3, 3, 1), dtype=float32)\n"
          ]
        }
      ],
      "source": [
        "import tensorflow as tf\n",
        "\n",
        "# Define input shape\n",
        "input_shape = (1, 2, 2, 1)  # Replace with desired dimensions\n",
        "\n",
        "# Generate random input with multiple channels\n",
        "random_input = tf.random.normal(shape=input_shape)\n",
        "print(random_input)\n",
        "\n",
        "# Define kernel size and number of output channels\n",
        "kernel_size = (2, 2)  # Adjust kernel size as needed\n",
        "num_filters = 1  # Adjust number of output filters\n",
        "\n",
        "# Define transposed convolution layer\n",
        "transpose_conv = tf.keras.layers.Conv2DTranspose(\n",
        "    filters=num_filters,\n",
        "    kernel_size=kernel_size,\n",
        "    strides=(1, 1),  # Stride of 1\n",
        "    padding=\"valid\",  # Padding of 1 (same padding)\n",
        "    dilation_rate=(1, 1),  # Dilation rate of 1\n",
        "    activation=None,  # Apply ReLU activation (optional)\n",
        "    input_shape=input_shape\n",
        ")\n",
        "\n",
        "# Call build method to initialize the weights\n",
        "transpose_conv.build(input_shape)\n",
        "\n",
        "# Print the kernel\n",
        "print(\"Kernel:\")\n",
        "print(transpose_conv.kernel)\n",
        "\n",
        "# Apply transposed convolution to the input\n",
        "output = transpose_conv(random_input)\n",
        "\n",
        "\n",
        "print(\"Input shape:\", input_shape)\n",
        "\n",
        "# Print the kernel size\n",
        "print(\"Kernel size:\", transpose_conv.kernel.shape)\n",
        "\n",
        "# Print the output shape\n",
        "print(f\"Output shape: {output.shape}\")\n",
        "\n",
        "print(output)\n",
        "\n"
      ]
    }
  ],
  "metadata": {
    "colab": {
      "provenance": []
    },
    "kernelspec": {
      "display_name": "Python 3",
      "name": "python3"
    },
    "language_info": {
      "name": "python"
    }
  },
  "nbformat": 4,
  "nbformat_minor": 0
}